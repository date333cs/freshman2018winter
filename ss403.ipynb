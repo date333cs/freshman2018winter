{
  "nbformat": 4,
  "nbformat_minor": 0,
  "metadata": {
    "colab": {
      "name": "ss403.ipynb",
      "version": "0.3.2",
      "provenance": [],
      "include_colab_link": true
    },
    "kernelspec": {
      "name": "python3",
      "display_name": "Python 3"
    },
    "accelerator": "TPU"
  },
  "cells": [
    {
      "cell_type": "markdown",
      "metadata": {
        "id": "view-in-github",
        "colab_type": "text"
      },
      "source": [
        "[View in Colaboratory](https://colab.research.google.com/github/date333cs/freshman2018winter/blob/master/ss403.ipynb)"
      ]
    },
    {
      "metadata": {
        "id": "u4VlC0hNarST",
        "colab_type": "text"
      },
      "cell_type": "markdown",
      "source": [
        "データのヒストグラムを描画"
      ]
    },
    {
      "metadata": {
        "id": "PeFfsR3AUIT_",
        "colab_type": "code",
        "colab": {
          "base_uri": "https://localhost:8080/",
          "height": 347
        },
        "outputId": "adf81a8d-dcfd-406c-9bff-71503695b910"
      },
      "cell_type": "code",
      "source": [
        "import numpy\n",
        "import matplotlib.pyplot as plt\n",
        "import sys\n",
        "\n",
        "y_vec = numpy.array([0.16, 0.66, 1.13, 1.22 ,1.38, 1.52, 1.65, 1.75, 1.8,  1.85, 1.85, 1.87, 2.01, 2.15,  2.16, 2.28, 2.29, 2.31, 2.35, 2.35, 2.42, 2.43, 2.44, 2.46, 2.47, 2.48, 2.49, 2.49,  2.53, 2.55, 2.57, 2.62, 2.68, 2.69, 2.7,  2.7,  2.72, 2.73, 2.75,\n",
        "2.78, 2.79, 2.8,  2.81, 2.82, 2.88, 2.89, 2.91, 2.92, 2.98, 3.01, 3.03, 3.1,  3.25, 3.49, 3.5,  3.56, 3.67])\n",
        "         \n",
        "fig = plt.figure()\n",
        "\n",
        "labels = ['GPA']\n",
        "ax = fig.add_subplot(111)\n",
        "ax.hist(y_vec, bins=16, range=(0.0,4.0), normed=False, facecolor='g', label=labels, rwidth=0.8, align='mid', alpha=0.6)\n",
        "ax.set_xlim(0, 4)\n",
        "ax.grid(True)\n",
        "plt.legend()\n",
        "\n",
        "plt.show()\n",
        "\n"
      ],
      "execution_count": 2,
      "outputs": [
        {
          "output_type": "display_data",
          "data": {
            "image/png": "[encoded data removed]",
            "text/plain": [
              "<matplotlib.figure.Figure at 0x7f19cc24f438>"
            ]
          },
          "metadata": {
            "tags": []
          }
        }
      ]
    }
  ]
}